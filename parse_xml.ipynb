{
 "cells": [
  {
   "cell_type": "markdown",
   "metadata": {},
   "source": [
    "### Imports:"
   ]
  },
  {
   "cell_type": "code",
   "execution_count": null,
   "metadata": {},
   "outputs": [],
   "source": [
    "from lxml import etree\n",
    "from lxml.etree import XMLSyntaxError\n",
    "import pandas as pd\n",
    "import sys\n",
    "import os\n",
    "import networkx as nx\n",
    "from natsort import index_natsorted, order_by_index\n",
    "from itertools import combinations"
   ]
  },
  {
   "cell_type": "markdown",
   "metadata": {},
   "source": [
    "### Parse data"
   ]
  },
  {
   "cell_type": "code",
   "execution_count": null,
   "metadata": {},
   "outputs": [],
   "source": [
    "source = \"dblp.xml\" #dataset of publications\n",
    "dtd = etree.DTD(file=\"dblp.dtd\") #read DTD\n",
    "publication_data = [] #fill this list with pairs of author/title\n",
    "edge_list = [] #fill this with edges\n",
    "counter = 0\n",
    "bad_titles = [\"Home Page\", \"Title Page\", \"Welcome message.\", \"Workshop preface.\", \"Vorwort.\", \"The\", \"The \", \"Session Summary.\", \"Reviewers.\", \"Program Committee.\", \n",
    "    \"Preface.\", \"Organizing Committee.\", \"Workshop Organization.\", \"Workshop Organizers' Message.\", \"Title Page.\", \"Steering Committee.\", \"Session details: Keynote Address.\",\n",
    "    \"S\"]\n",
    "#iterate through nodes\n",
    "for event, element in etree.iterparse(source, load_dtd=True):\n",
    "    title = \"\"\n",
    "    author_list = []\n",
    "    year = 0\n",
    "    #iterate through children: author, title, year, etc.\n",
    "    for child in element:\n",
    "        if child.tag == \"author\":\n",
    "            author_list.append(str(child.text))\n",
    "        elif child.tag == \"title\":\n",
    "            title = str(child.text)\n",
    "            if title in bad_titles:\n",
    "                title = \"\"; \n",
    "        elif child.tag == \"year\":\n",
    "            year = int(child.text)\n",
    "            for author in author_list:\n",
    "                publication_data.append({\"Author\" : author.strip(), \"Title\" : title.strip(), \"Year\" : year}) #add author/title/year pair to data list\n",
    "            if len(author_list) > 1:\n",
    "                edge_list.append(author_list)\n",
    "            counter += 1\n",
    "            break\n",
    "    if counter % 100000 == 0:\n",
    "        sys.stdout.write(f'\\r  progress:  {counter}  publications')\n",
    "    if counter > 2000000:\n",
    "        print(\"\\nbroke\")\n",
    "        break\n",
    "#create dataframe\n",
    "publication_df = pd.DataFrame(publication_data)\n",
    "edges_df = pd.DataFrame(edge_list)\n",
    "element.clear()"
   ]
  },
  {
   "cell_type": "markdown",
   "metadata": {},
   "source": [
    "### Converting Dataframe to CSV"
   ]
  },
  {
   "cell_type": "code",
   "execution_count": null,
   "metadata": {},
   "outputs": [],
   "source": [
    "publication_df.to_csv('add_data.csv')\n",
    "edges_df.to_csv('add_edges.csv')\n",
    "print(len(publication_df))\n",
    "print(len(edges_df))"
   ]
  },
  {
   "cell_type": "markdown",
   "metadata": {},
   "source": [
    "### Converting CSV to graph: adding authors as nodes"
   ]
  },
  {
   "cell_type": "code",
   "execution_count": null,
   "metadata": {},
   "outputs": [],
   "source": [
    "publication_df = pd.read_csv(\"data.csv\")\n",
    "publication_df = publication_df.reindex(index=order_by_index(publication_df.index, index_natsorted(publication_df['Author'], reverse=False))) # sorting by author name\n",
    "publication_df.to_csv('data.csv')\n"
   ]
  },
  {
   "cell_type": "code",
   "execution_count": null,
   "metadata": {},
   "outputs": [],
   "source": [
    "author_graph = nx.Graph()\n",
    "publication_df = pd.read_csv(\"data.csv\")\n",
    "author_graph.add_node(publication_df[\"Author\"][0], Publications = {publication_df[\"Title\"][0]})\n",
    "for row in range(1, len(publication_df)):\n",
    "    author = publication_df[\"Author\"][row]\n",
    "    if author == publication_df[\"Author\"][row-1]:\n",
    "        author_graph.nodes[author][\"Publications\"].add(publication_df[\"Title\"][row]) #adding title to list of publications from that author\n",
    "    else:\n",
    "        author_graph.add_node(author, Publications = {publication_df[\"Title\"][row]}) #adding author to graph with title to attibute\n",
    "print(\"Number of unique authors: \" + str(len(author_graph.nodes)))"
   ]
  },
  {
   "cell_type": "markdown",
   "metadata": {},
   "source": [
    "### Adding edges based on CSV of edge list"
   ]
  },
  {
   "cell_type": "code",
   "execution_count": null,
   "metadata": {},
   "outputs": [],
   "source": [
    "edges_list = pd.read_csv(\"edges.csv\")"
   ]
  },
  {
   "cell_type": "code",
   "execution_count": null,
   "metadata": {},
   "outputs": [],
   "source": [
    "count = 0\n",
    "for row in edges_list.iterrows():\n",
    "    i = 1\n",
    "    coauthors = []\n",
    "    while (type(row[1][i])) == str and row[1][i] != \"None\" and (i < 15):\n",
    "        coauthors.append(row[1][i])\n",
    "        i += 1\n",
    "    author_graph.add_edges_from(list(combinations(coauthors, 2)))\n",
    "    count+=1\n",
    "    if count % 10000 == 0:\n",
    "        sys.stdout.write(f'\\r  rows processed: {count}')"
   ]
  },
  {
   "cell_type": "code",
   "execution_count": null,
   "metadata": {},
   "outputs": [],
   "source": [
    "print(len(author_graph.edges))"
   ]
  },
  {
   "cell_type": "markdown",
   "metadata": {},
   "source": [
    "### Save graph as a gpickle"
   ]
  },
  {
   "cell_type": "code",
   "execution_count": null,
   "metadata": {},
   "outputs": [],
   "source": [
    "nx.write_gpickle(author_graph, \"author_graph.gpickle\")"
   ]
  },
  {
   "cell_type": "markdown",
   "metadata": {},
   "source": [
    "### Read gpickle back into networkX graph"
   ]
  },
  {
   "cell_type": "code",
   "execution_count": null,
   "metadata": {},
   "outputs": [],
   "source": [
    "author_graph = nx.read_gpickle(\"author_graph.gpickle\")"
   ]
  }
 ],
 "metadata": {
  "kernelspec": {
   "display_name": "Python 3.9.1 64-bit",
   "language": "python",
   "name": "python3"
  },
  "language_info": {
   "codemirror_mode": {
    "name": "ipython",
    "version": 3
   },
   "file_extension": ".py",
   "mimetype": "text/x-python",
   "name": "python",
   "nbconvert_exporter": "python",
   "pygments_lexer": "ipython3",
   "version": "3.9.1"
  },
  "orig_nbformat": 4,
  "vscode": {
   "interpreter": {
    "hash": "d0152c3cde22b7c026592928a2506052273ce6058941e07d599a5ae9706ff583"
   }
  }
 },
 "nbformat": 4,
 "nbformat_minor": 2
}
