{
 "cells": [
  {
   "cell_type": "markdown",
   "metadata": {},
   "source": [
    "# To Do:\n",
    "- figure out how to save graph locally"
   ]
  },
  {
   "cell_type": "markdown",
   "metadata": {},
   "source": [
    "### references:\n"
   ]
  },
  {
   "cell_type": "code",
   "execution_count": 4,
   "metadata": {},
   "outputs": [],
   "source": [
    "#printing: sys.stdout.write(f'\\r  ...progress: {curRow * tilesY} / {tilesX * tilesY} ({pct:.2f}%)')"
   ]
  },
  {
   "cell_type": "markdown",
   "metadata": {},
   "source": [
    "### Imports:"
   ]
  },
  {
   "cell_type": "code",
   "execution_count": 1,
   "metadata": {},
   "outputs": [],
   "source": [
    "from lxml import etree\n",
    "from lxml.etree import XMLSyntaxError\n",
    "import pandas as pd\n",
    "import sys\n",
    "import os\n",
    "import networkx as nx\n",
    "from natsort import index_natsorted, order_by_index\n",
    "from itertools import combinations"
   ]
  },
  {
   "cell_type": "code",
   "execution_count": 9,
   "metadata": {},
   "outputs": [
    {
     "name": "stdout",
     "output_type": "stream",
     "text": [
      "  progress:  1000000  rows\n",
      "broke\n"
     ]
    }
   ],
   "source": [
    "source = \"dblp.xml\" #dataset of publications\n",
    "dtd = etree.DTD(file=\"dblp.dtd\") #read DTD\n",
    "publication_data = [] #fill this list with pairs of author/title\n",
    "counter = 0\n",
    "bad_titles = [\"Home Page\", \"Title Page\", \"Welcome message.\", \"Workshop preface.\", \"Vorwort.\", \"The\", \"The \", \"Session Summary.\", \"Reviewers.\", \"Program Committee.\", \n",
    "    \"Preface.\", \"Organizing Committee.\", \"Workshop Organization.\", \"Workshop Organizers' Message.\", \"Title Page.\", \"Steering Committee.\", \"Session details: Keynote Address.\",\n",
    "    \"S\"]\n",
    "#iterate through nodes\n",
    "for event, element in etree.iterparse(source, load_dtd=True):\n",
    "    title = \"\"\n",
    "    author_list = []\n",
    "    year = 0\n",
    "    #iterate through children: author, title, year, etc.\n",
    "    for child in element:\n",
    "        if child.tag == \"author\":\n",
    "            counter+=1\n",
    "        elif child.tag == \"title\":\n",
    "            title = str(child.text)\n",
    "            if title in bad_titles:\n",
    "                title = \"\";\n",
    "            # break\n",
    "    if counter % 10000 == 0:\n",
    "        sys.stdout.write(f'\\r  progress:  {counter}  rows')\n",
    "    if counter >= 1000000:\n",
    "        print(\"\\nbroke\")\n",
    "        break\n",
    "#create dataframe\n",
    "publication_df = pd.DataFrame(publication_data)\n",
    "\n",
    "element.clear()"
   ]
  },
  {
   "cell_type": "markdown",
   "metadata": {},
   "source": [
    "## Working approach:"
   ]
  },
  {
   "cell_type": "code",
   "execution_count": 5,
   "metadata": {},
   "outputs": [
    {
     "name": "stdout",
     "output_type": "stream",
     "text": [
      "  progress:  1000000  rows\n",
      "broke\n"
     ]
    }
   ],
   "source": [
    "source = \"dblp.xml\" #dataset of publications\n",
    "dtd = etree.DTD(file=\"dblp.dtd\") #read DTD\n",
    "publication_data = [] #fill this list with pairs of author/title\n",
    "edge_list = [] #fill this with edges\n",
    "counter = 0\n",
    "bad_titles = [\"Home Page\", \"Title Page\", \"Welcome message.\", \"Workshop preface.\", \"Vorwort.\", \"The\", \"The \", \"Session Summary.\", \"Reviewers.\", \"Program Committee.\", \n",
    "    \"Preface.\", \"Organizing Committee.\", \"Workshop Organization.\", \"Workshop Organizers' Message.\", \"Title Page.\", \"Steering Committee.\", \"Session details: Keynote Address.\",\n",
    "    \"S\"]\n",
    "#iterate through nodes\n",
    "for event, element in etree.iterparse(source, load_dtd=True):\n",
    "    title = \"\"\n",
    "    author_list = []\n",
    "    year = 0\n",
    "    #iterate through children: author, title, year, etc.\n",
    "    for child in element:\n",
    "        if child.tag == \"author\":\n",
    "            author_list.append(str(child.text))\n",
    "        elif child.tag == \"title\":\n",
    "            title = str(child.text)\n",
    "            if title in bad_titles:\n",
    "                title = \"\"; \n",
    "        elif child.tag == \"year\":\n",
    "            year = int(child.text)\n",
    "            for author in author_list:\n",
    "                publication_data.append({\"Author\" : author.strip(), \"Title\" : title.strip(), \"Year\" : year}) #add author/title/year pair to data list\n",
    "            if len(author_list) > 1:\n",
    "                edge_list.append(author_list)\n",
    "            counter += 1\n",
    "            break\n",
    "    if counter % 10000 == 0:\n",
    "        sys.stdout.write(f'\\r  progress:  {counter}  rows')\n",
    "    if counter > 1000000:\n",
    "        print(\"\\nbroke\")\n",
    "        break\n",
    "#create dataframe\n",
    "publication_df = pd.DataFrame(publication_data)\n",
    "edges_df = pd.DataFrame(edge_list)\n",
    "element.clear()"
   ]
  },
  {
   "cell_type": "code",
   "execution_count": 7,
   "metadata": {},
   "outputs": [
    {
     "data": {
      "text/html": [
       "<div>\n",
       "<style scoped>\n",
       "    .dataframe tbody tr th:only-of-type {\n",
       "        vertical-align: middle;\n",
       "    }\n",
       "\n",
       "    .dataframe tbody tr th {\n",
       "        vertical-align: top;\n",
       "    }\n",
       "\n",
       "    .dataframe thead th {\n",
       "        text-align: right;\n",
       "    }\n",
       "</style>\n",
       "<table border=\"1\" class=\"dataframe\">\n",
       "  <thead>\n",
       "    <tr style=\"text-align: right;\">\n",
       "      <th></th>\n",
       "      <th>Author</th>\n",
       "      <th>Title</th>\n",
       "      <th>Year</th>\n",
       "    </tr>\n",
       "  </thead>\n",
       "  <tbody>\n",
       "    <tr>\n",
       "      <th>2951916</th>\n",
       "      <td>Christoph Tögel</td>\n",
       "      <td>The Effects of Full-Body Avatar Movement Predi...</td>\n",
       "      <td>2020</td>\n",
       "    </tr>\n",
       "    <tr>\n",
       "      <th>2951917</th>\n",
       "      <td>Julian Dietz</td>\n",
       "      <td>The Effects of Full-Body Avatar Movement Predi...</td>\n",
       "      <td>2020</td>\n",
       "    </tr>\n",
       "    <tr>\n",
       "      <th>2951918</th>\n",
       "      <td>Niels Henze</td>\n",
       "      <td>The Effects of Full-Body Avatar Movement Predi...</td>\n",
       "      <td>2020</td>\n",
       "    </tr>\n",
       "    <tr>\n",
       "      <th>2951919</th>\n",
       "      <td>Simon Stannus</td>\n",
       "      <td>Natural 7DoF navigation &amp; interaction in 3D ge...</td>\n",
       "      <td>2014</td>\n",
       "    </tr>\n",
       "    <tr>\n",
       "      <th>2951920</th>\n",
       "      <td>Arko Lucieer</td>\n",
       "      <td>Natural 7DoF navigation &amp; interaction in 3D ge...</td>\n",
       "      <td>2014</td>\n",
       "    </tr>\n",
       "    <tr>\n",
       "      <th>2951921</th>\n",
       "      <td>Wai-Tat Fu</td>\n",
       "      <td>Natural 7DoF navigation &amp; interaction in 3D ge...</td>\n",
       "      <td>2014</td>\n",
       "    </tr>\n",
       "    <tr>\n",
       "      <th>2951922</th>\n",
       "      <td>Kaisa Kauppinen</td>\n",
       "      <td>Producing identity in collaborative virtual en...</td>\n",
       "      <td>1998</td>\n",
       "    </tr>\n",
       "    <tr>\n",
       "      <th>2951923</th>\n",
       "      <td>Anri Kivimäki</td>\n",
       "      <td>Producing identity in collaborative virtual en...</td>\n",
       "      <td>1998</td>\n",
       "    </tr>\n",
       "    <tr>\n",
       "      <th>2951924</th>\n",
       "      <td>Taina Era</td>\n",
       "      <td>Producing identity in collaborative virtual en...</td>\n",
       "      <td>1998</td>\n",
       "    </tr>\n",
       "    <tr>\n",
       "      <th>2951925</th>\n",
       "      <td>Mike Robinson</td>\n",
       "      <td>Producing identity in collaborative virtual en...</td>\n",
       "      <td>1998</td>\n",
       "    </tr>\n",
       "  </tbody>\n",
       "</table>\n",
       "</div>"
      ],
      "text/plain": [
       "                  Author                                              Title  \\\n",
       "2951916  Christoph Tögel  The Effects of Full-Body Avatar Movement Predi...   \n",
       "2951917     Julian Dietz  The Effects of Full-Body Avatar Movement Predi...   \n",
       "2951918      Niels Henze  The Effects of Full-Body Avatar Movement Predi...   \n",
       "2951919    Simon Stannus  Natural 7DoF navigation & interaction in 3D ge...   \n",
       "2951920     Arko Lucieer  Natural 7DoF navigation & interaction in 3D ge...   \n",
       "2951921       Wai-Tat Fu  Natural 7DoF navigation & interaction in 3D ge...   \n",
       "2951922  Kaisa Kauppinen  Producing identity in collaborative virtual en...   \n",
       "2951923    Anri Kivimäki  Producing identity in collaborative virtual en...   \n",
       "2951924        Taina Era  Producing identity in collaborative virtual en...   \n",
       "2951925    Mike Robinson  Producing identity in collaborative virtual en...   \n",
       "\n",
       "         Year  \n",
       "2951916  2020  \n",
       "2951917  2020  \n",
       "2951918  2020  \n",
       "2951919  2014  \n",
       "2951920  2014  \n",
       "2951921  2014  \n",
       "2951922  1998  \n",
       "2951923  1998  \n",
       "2951924  1998  \n",
       "2951925  1998  "
      ]
     },
     "execution_count": 7,
     "metadata": {},
     "output_type": "execute_result"
    }
   ],
   "source": [
    "publication_df.tail(10)"
   ]
  },
  {
   "cell_type": "markdown",
   "metadata": {},
   "source": [
    "### Converting Dataframe to CSV"
   ]
  },
  {
   "cell_type": "code",
   "execution_count": 13,
   "metadata": {},
   "outputs": [
    {
     "name": "stdout",
     "output_type": "stream",
     "text": [
      "2951926\n",
      "777398\n"
     ]
    }
   ],
   "source": [
    "publication_df.to_csv('data.csv')\n",
    "edges_df.to_csv('edges.csv')\n",
    "print(len(publication_df))\n",
    "print(len(edges_df))"
   ]
  },
  {
   "cell_type": "markdown",
   "metadata": {},
   "source": [
    "### Converting CSV to graph: adding authors as nodes"
   ]
  },
  {
   "cell_type": "code",
   "execution_count": 2,
   "metadata": {},
   "outputs": [],
   "source": [
    "publication_df = pd.read_csv(\"data.csv\")\n",
    "publication_df = publication_df.reindex(index=order_by_index(publication_df.index, index_natsorted(publication_df['Author'], reverse=False))) # sorting by author name\n",
    "publication_df.to_csv('data.csv')\n"
   ]
  },
  {
   "cell_type": "code",
   "execution_count": 2,
   "metadata": {},
   "outputs": [
    {
     "name": "stdout",
     "output_type": "stream",
     "text": [
      "Number of unique authors: 965885\n"
     ]
    }
   ],
   "source": [
    "author_graph = nx.Graph()\n",
    "publication_df = pd.read_csv(\"data.csv\")\n",
    "author_graph.add_node(publication_df[\"Author\"][0], Publications = {publication_df[\"Title\"][0]})\n",
    "for row in range(1, len(publication_df)):\n",
    "    author = publication_df[\"Author\"][row]\n",
    "    if author == publication_df[\"Author\"][row-1]:\n",
    "        author_graph.nodes[author][\"Publications\"].add(publication_df[\"Title\"][row]) #adding title to list of publications from that author\n",
    "    else:\n",
    "        author_graph.add_node(author, Publications = {publication_df[\"Title\"][row]}) #adding author to graph with title to attibute\n",
    "print(\"Number of unique authors: \" + str(len(author_graph.nodes)))"
   ]
  },
  {
   "cell_type": "markdown",
   "metadata": {},
   "source": [
    "### Adding edges based on CSV of edge list"
   ]
  },
  {
   "cell_type": "code",
   "execution_count": null,
   "metadata": {},
   "outputs": [],
   "source": [
    "edges_list = pd.read_csv(\"edges.csv\")"
   ]
  },
  {
   "cell_type": "code",
   "execution_count": 5,
   "metadata": {},
   "outputs": [
    {
     "name": "stdout",
     "output_type": "stream",
     "text": [
      "  rows processed: 770000"
     ]
    }
   ],
   "source": [
    "count = 0\n",
    "for row in edges_list.iterrows():\n",
    "    i = 1\n",
    "    coauthors = []\n",
    "    while (type(row[1][i])) == str and row[1][i] != \"None\" and (i < 15):\n",
    "        coauthors.append(row[1][i])\n",
    "        i += 1\n",
    "    author_graph.add_edges_from(list(combinations(coauthors, 2)))\n",
    "    count+=1\n",
    "    if count % 10000 == 0:\n",
    "        sys.stdout.write(f'\\r  rows processed: {count}')"
   ]
  },
  {
   "cell_type": "code",
   "execution_count": 6,
   "metadata": {},
   "outputs": [
    {
     "name": "stdout",
     "output_type": "stream",
     "text": [
      "3265996\n"
     ]
    }
   ],
   "source": [
    "print(len(author_graph.edges))"
   ]
  },
  {
   "cell_type": "markdown",
   "metadata": {},
   "source": [
    "### Save graph as a gpickle"
   ]
  },
  {
   "cell_type": "code",
   "execution_count": 7,
   "metadata": {},
   "outputs": [],
   "source": [
    "nx.write_gpickle(author_graph, \"author_graph.gpickle\")"
   ]
  },
  {
   "cell_type": "markdown",
   "metadata": {},
   "source": [
    "### Read gpickle back into networkX graph"
   ]
  },
  {
   "cell_type": "code",
   "execution_count": 5,
   "metadata": {},
   "outputs": [],
   "source": [
    "author_graph = nx.read_gpickle(\"author_graph.gpickle\")"
   ]
  }
 ],
 "metadata": {
  "interpreter": {
   "hash": "c8ad7cc9a111ac577fec804d99d295f3f6da60a5d648a58c5540db810996fd30"
  },
  "kernelspec": {
   "display_name": "Python 3.8.8 64-bit ('base': conda)",
   "language": "python",
   "name": "python3"
  },
  "language_info": {
   "codemirror_mode": {
    "name": "ipython",
    "version": 3
   },
   "file_extension": ".py",
   "mimetype": "text/x-python",
   "name": "python",
   "nbconvert_exporter": "python",
   "pygments_lexer": "ipython3",
   "version": "3.8.12"
  },
  "orig_nbformat": 4
 },
 "nbformat": 4,
 "nbformat_minor": 2
}
